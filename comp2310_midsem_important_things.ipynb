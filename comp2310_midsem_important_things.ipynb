{
 "cells": [
  {
   "cell_type": "markdown",
   "metadata": {},
   "source": [
    "# COMP2310 Midsem Important Things"
   ]
  },
  {
   "cell_type": "markdown",
   "metadata": {},
   "source": [
    "## Concurrency Concepts\n",
    "\n",
    "### WTF even is concurrency\n",
    "\n",
    "### Mutual exclusion\n",
    "\n",
    "### What do you need for mutual exclusion?\n",
    "\n",
    "### Critical Regions\n",
    "\n",
    "Critical regions are a set of associated code sections in different processes which are guaranteed to be executed in mutual exclusion.\n",
    "- SHared data structures are grouped in named regions and are tagged as being private\n",
    "- Processes are prohibited from entering a critical region when another process is active in an associated critical region\n",
    "\n",
    "### Conditional Synchronisation\n",
    "\n",
    "When a process wishes to enter a critical region it evaluates the guard (under mutual exclusion). If the guard evaluates to false the process is suspended, if not it continues into the critical region.\n",
    "\n",
    "### Different tools for concurrency\n",
    "\n",
    "#### Semaphores\n",
    "\n",
    "Semaphores are not bound to any resource or method or region\n",
    "- Which means the compiler has no idea what is supposed to be protected by a semaphore\n",
    "\n",
    "Semaphores are scattered throughout your code:\n",
    "- which makes them hard to read and error-prone (forgetting a single operation on a semaphore will usually brick your code!)\n",
    "\n",
    "Semaphores are inadequate for non-trivial systems, but do have an application in low-level (hardware) applications.\n",
    "\n",
    "#### Monitors\n",
    "\n",
    "#### What is the inheritance anomaly?"
   ]
  },
  {
   "cell_type": "markdown",
   "metadata": {},
   "source": [
    "## Ada Syntax / Concepts\n",
    "\n",
    "### Protected Obects\n",
    "\n",
    "- What is concurrency safe, what isn't\n",
    "- What is mutually exclusive inside a protected object\n",
    "\n",
    "- procedures enforce mutual exclusion with all other operations in the same protected object. This means that maximally one task can enter a procedure inside a protected object (also called a protected procedure) at any one time and no other task can be inside the same protected object while this one task is operating inside the protected object.\n",
    "\n",
    "- entries enforce the same constraints as procedures, yet are also associated with a guard (boolean expression) which needs to be fulfilled before a task is allowed to enter (otherwise it is blocked and neatly queued up until the guard opens up again). Those guards are being re-evaluated when a task leaves a procedure or entry within the same protected object – i.e. if a task leaves e.g. the Dec entry, then both guards will be re-evaluated and a potentially waiting task on the Inc entry can now gain permission to enter next.\n",
    "\n",
    "- In short: there can only ever be maximally one task inside a protected object if this task entered via a protected procedure or entry. Alternatively, multiple tasks can use one or multiple protected functions concurrently\n",
    "\n",
    "### Tasks\n",
    "\n",
    "Every task independently executes the same sequence of statements.\n",
    "- Every task instance has its own copy of local variables (which are initialized in the same way).\n",
    "- Every task instance has its own set of independent interfaces, even though they all share the same syntactical form as given by the task type.\n",
    "- All task types are limited! That is tasks cannot be copied or tested for equality\n",
    "\n",
    "s, the task (type) declaration specifies the interface to the task (type) (its entries)\n",
    "\n",
    "Ada guarantees that a declared task is up and running before the first statement after the next begin. In the above case of a singleton task, the single task will be in state “running” right after it has been declared with task identifier;\n",
    "\n",
    "### Generics\n",
    "\n",
    "### Entries\n",
    "\n",
    "### Procedures\n",
    "\n",
    "### Functions\n",
    "\n",
    "### Subtypes"
   ]
  }
 ],
 "metadata": {
  "kernelspec": {
   "display_name": "Python 3",
   "language": "python",
   "name": "python3"
  },
  "language_info": {
   "codemirror_mode": {
    "name": "ipython",
    "version": 3
   },
   "file_extension": ".py",
   "mimetype": "text/x-python",
   "name": "python",
   "nbconvert_exporter": "python",
   "pygments_lexer": "ipython3",
   "version": "3.7.1"
  }
 },
 "nbformat": 4,
 "nbformat_minor": 2
}
